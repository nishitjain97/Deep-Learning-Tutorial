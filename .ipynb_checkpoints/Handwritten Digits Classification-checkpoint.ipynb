{
 "cells": [
  {
   "cell_type": "code",
   "execution_count": 9,
   "metadata": {},
   "outputs": [],
   "source": [
    "import random\n",
    "import numpy as np"
   ]
  },
  {
   "cell_type": "code",
   "execution_count": 10,
   "metadata": {},
   "outputs": [],
   "source": [
    "class Network(object):\n",
    "    def __init__(self, sizes):\n",
    "        self.num_layers = len(sizes)\n",
    "        self.sizes = sizes\n",
    "        self.biases = [np.random.randn(y, 1) for y in sizes[1:]]\n",
    "        self.weights = [np.random.randn(y, x) for x, y in zip(sizes[:-1], sizes[1:])]\n",
    "        \n",
    "    def feedforward(self, a):\n",
    "        \"\"\"\n",
    "            Return the output of the network.\n",
    "            a is input\n",
    "        \"\"\"\n",
    "        for b, w in zip(self.biases, self.weights):\n",
    "            a = sigmoid(np.dot(w, a) + b)\n",
    "        return a\n",
    "    \n",
    "    def sgd(self, training_data, epochs, mini_batch_size, eta, test_data=None):\n",
    "        if test_data:\n",
    "            n_test = len(test_data)\n",
    "        n = len(training_data)\n",
    "        \n",
    "        for j in range(epochs):\n",
    "            random.shuffle(training_data)\n",
    "            mini_batches = [\n",
    "                training_data[k:k+mini_batch_size] for k in range(0, n, mini_batch_size)\n",
    "            ]\n",
    "            \n",
    "            for mini_batch in mini_batches:\n",
    "                self.update_mini_batch(mini_batch, eta)\n",
    "            \n",
    "            if test_data:\n",
    "                print(\"Epoch {0}: {1} / {2}\".format(j, self.evaluate(test_data), n_test))\n",
    "            else:\n",
    "                print(\"Epoch {0} complete\".format(j))\n",
    "                \n",
    "    def update_mini_batch(self, mini_batch, eta):\n",
    "        nabla_b = [np.zeros(b.shape) for b in self.biases]\n",
    "        nabla_w = [np.zeros(w.shape) for w in self.weights]\n",
    "        \n",
    "        for x, y in mini_batch:\n",
    "            delta_nabla_b, delta_nabla_w = self.backprop(x, y)\n",
    "            nabla_b = [nb+dnb for nb, dnb in zip(nabla_b, delta_nabla_b)]\n",
    "            nabla_w = [nw+dnw for nw, dnw in zip(nabla_w, delta_nabla_w)]\n",
    "        \n",
    "        self.weights = [w - (eta / len(mini_batch)) * nw for w, nw in zip(self.weights, nabla_w)]\n",
    "        self.biases = [b - (eta / len(mini_batch)) * nb for b, nb in zip(self.biases, nabla_b)]\n",
    "    \n",
    "    def backprop(self, x, y):\n",
    "        nabla_b = [np.zeros(b.shape) for b in self.biases]\n",
    "        nabla_w = [np.zeros(w.shape) for w in self.weights]\n",
    "        \n",
    "        activation = x\n",
    "        activations = [x]\n",
    "        zs = []\n",
    "        \n",
    "        for b, w in zip(self.biases, self.weights):\n",
    "            z = np.dot(w, activation) + b\n",
    "            zs.append(z)\n",
    "            activation = sigmoid(z)\n",
    "            activations.append(activation)\n",
    "        \n",
    "        delta = self.cost_derivative(activations[-1], y) * sigmoid_prime(zs[-1])\n",
    "        nabla_b[-1] = delta\n",
    "        nabla_w[-1] = np.dot(delta, activations[-2].transpose())\n",
    "        \n",
    "        for l in range(2, self.num_layers):\n",
    "            z = zs[-l]\n",
    "            sp = sigmoid_prime(z)\n",
    "            delta = np.dot(self.weights[-l+1].transpose(), delta) * sp\n",
    "            nabla_b[-l] = delta\n",
    "            nabla_w[-l] = np.dot(delta, activations[-l-1].transpose())\n",
    "        return (nabla_b, nabla_w)\n",
    "    \n",
    "    def evaluate(self, test_data):\n",
    "        test_results = [(np.argmax(self.feedforward(x)), y) for (x, y) in test_data]\n",
    "        return sum(int(x == y) for (x, y) in test_results)\n",
    "    \n",
    "    def cost_derivative(self, output_activations, y):\n",
    "        return (output_activations - y)"
   ]
  },
  {
   "cell_type": "code",
   "execution_count": 11,
   "metadata": {},
   "outputs": [],
   "source": [
    "def sigmoid(z):\n",
    "    return 1.0 / (1.0 + np.exp(-z))\n",
    "\n",
    "def sigmoid_prime(z):\n",
    "    return sigmoid(z) * (1 - sigmoid(z))"
   ]
  },
  {
   "cell_type": "code",
   "execution_count": 12,
   "metadata": {},
   "outputs": [],
   "source": [
    "import mnist_loader"
   ]
  },
  {
   "cell_type": "code",
   "execution_count": 13,
   "metadata": {},
   "outputs": [],
   "source": [
    "training_data, validation_data, test_data = mnist_loader.load_data_wrapper()"
   ]
  },
  {
   "cell_type": "code",
   "execution_count": 14,
   "metadata": {},
   "outputs": [],
   "source": [
    "training_data, validation_data, test_data = list(training_data), list(validation_data), list(test_data)"
   ]
  },
  {
   "cell_type": "code",
   "execution_count": 15,
   "metadata": {},
   "outputs": [],
   "source": [
    "net = Network([784, 30, 10])"
   ]
  },
  {
   "cell_type": "code",
   "execution_count": 16,
   "metadata": {},
   "outputs": [
    {
     "name": "stdout",
     "output_type": "stream",
     "text": [
      "Epoch 0: 8228 / 10000\n",
      "Epoch 1: 8383 / 10000\n",
      "Epoch 2: 9304 / 10000\n",
      "Epoch 3: 9357 / 10000\n",
      "Epoch 4: 9406 / 10000\n",
      "Epoch 5: 9400 / 10000\n",
      "Epoch 6: 9407 / 10000\n",
      "Epoch 7: 9442 / 10000\n",
      "Epoch 8: 9450 / 10000\n",
      "Epoch 9: 9460 / 10000\n",
      "Epoch 10: 9486 / 10000\n",
      "Epoch 11: 9469 / 10000\n",
      "Epoch 12: 9453 / 10000\n",
      "Epoch 13: 9446 / 10000\n",
      "Epoch 14: 9486 / 10000\n",
      "Epoch 15: 9503 / 10000\n",
      "Epoch 16: 9470 / 10000\n",
      "Epoch 17: 9488 / 10000\n",
      "Epoch 18: 9491 / 10000\n",
      "Epoch 19: 9494 / 10000\n",
      "Epoch 20: 9500 / 10000\n",
      "Epoch 21: 9507 / 10000\n",
      "Epoch 22: 9530 / 10000\n",
      "Epoch 23: 9502 / 10000\n",
      "Epoch 24: 9493 / 10000\n",
      "Epoch 25: 9510 / 10000\n",
      "Epoch 26: 9499 / 10000\n",
      "Epoch 27: 9485 / 10000\n",
      "Epoch 28: 9522 / 10000\n",
      "Epoch 29: 9505 / 10000\n"
     ]
    }
   ],
   "source": [
    "net.sgd(training_data, 30, 10, 3.0, test_data=test_data)"
   ]
  },
  {
   "cell_type": "code",
   "execution_count": 17,
   "metadata": {},
   "outputs": [],
   "source": [
    "net = Network([784, 100, 10])"
   ]
  },
  {
   "cell_type": "code",
   "execution_count": 18,
   "metadata": {},
   "outputs": [
    {
     "name": "stdout",
     "output_type": "stream",
     "text": [
      "Epoch 0: 6357 / 10000\n",
      "Epoch 1: 6475 / 10000\n",
      "Epoch 2: 6529 / 10000\n",
      "Epoch 3: 6575 / 10000\n",
      "Epoch 4: 6604 / 10000\n",
      "Epoch 5: 6641 / 10000\n",
      "Epoch 6: 6680 / 10000\n",
      "Epoch 7: 6728 / 10000\n",
      "Epoch 8: 7484 / 10000\n",
      "Epoch 9: 7504 / 10000\n",
      "Epoch 10: 7532 / 10000\n",
      "Epoch 11: 7561 / 10000\n",
      "Epoch 12: 8642 / 10000\n",
      "Epoch 13: 8604 / 10000\n",
      "Epoch 14: 8657 / 10000\n",
      "Epoch 15: 8682 / 10000\n",
      "Epoch 16: 8675 / 10000\n",
      "Epoch 17: 8673 / 10000\n",
      "Epoch 18: 8685 / 10000\n",
      "Epoch 19: 8657 / 10000\n",
      "Epoch 20: 8685 / 10000\n",
      "Epoch 21: 8688 / 10000\n",
      "Epoch 22: 8685 / 10000\n",
      "Epoch 23: 8681 / 10000\n",
      "Epoch 24: 8697 / 10000\n",
      "Epoch 25: 8702 / 10000\n",
      "Epoch 26: 8702 / 10000\n",
      "Epoch 27: 8699 / 10000\n",
      "Epoch 28: 8701 / 10000\n",
      "Epoch 29: 8702 / 10000\n"
     ]
    }
   ],
   "source": [
    "net.sgd(training_data, 30, 10, 3.0, test_data=test_data)"
   ]
  }
 ],
 "metadata": {
  "kernelspec": {
   "display_name": "Python 3",
   "language": "python",
   "name": "python3"
  },
  "language_info": {
   "codemirror_mode": {
    "name": "ipython",
    "version": 3
   },
   "file_extension": ".py",
   "mimetype": "text/x-python",
   "name": "python",
   "nbconvert_exporter": "python",
   "pygments_lexer": "ipython3",
   "version": "3.6.5"
  }
 },
 "nbformat": 4,
 "nbformat_minor": 2
}
